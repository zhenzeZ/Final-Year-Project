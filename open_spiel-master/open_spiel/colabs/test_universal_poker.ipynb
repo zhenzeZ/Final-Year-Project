{
  "cells": [
    {
      "cell_type": "code",
      "execution_count": 0,
      "metadata": {
        "colab": {},
        "colab_type": "code",
        "id": "idfu7sA0vExR"
      },
      "outputs": [],
      "source": [
        "import sys\n",
        "import os\n",
        "\n",
        "sys.path.insert(0, os.path.join(os.path.abspath(os.getcwd()), '..', '..'))\n",
        "sys.path.insert(0, os.path.join(os.path.abspath(os.getcwd()), '..', '..', 'build', 'python'))"
      ]
    },
    {
      "cell_type": "code",
      "execution_count": 0,
      "metadata": {
        "colab": {},
        "colab_type": "code",
        "id": "S7FxsbtDvExg"
      },
      "outputs": [],
      "source": [
        "import pyspiel\n",
        "from open_spiel.python.algorithms import cfr, exploitability\n",
        "from open_spiel.python.algorithms import expected_game_score"
      ]
    },
    {
      "cell_type": "code",
      "execution_count": 0,
      "metadata": {
        "colab": {},
        "colab_type": "code",
        "id": "HLXNc0ZCvExt",
        "outputId": "0cc31157-8e29-41b3-f298-99777d416cb3"
      },
      "outputs": [
        {
          "name": "stdout",
          "output_type": "stream",
          "text": [
            "Registered games:\n",
            "[\u003cGameType 'backgammon'\u003e, \u003cGameType 'blotto'\u003e, \u003cGameType 'breakthrough'\u003e, \u003cGameType 'bridge_uncontested_bidding'\u003e, \u003cGameType 'catch'\u003e, \u003cGameType 'chess'\u003e, \u003cGameType 'coin_game'\u003e, \u003cGameType 'connect_four'\u003e, \u003cGameType 'coop_box_pushing'\u003e, \u003cGameType 'first_sealed_auction'\u003e, \u003cGameType 'go'\u003e, \u003cGameType 'goofspiel'\u003e, \u003cGameType 'havannah'\u003e, \u003cGameType 'hex'\u003e, \u003cGameType 'kuhn_poker'\u003e, \u003cGameType 'laser_tag'\u003e, \u003cGameType 'leduc_poker'\u003e, \u003cGameType 'liars_dice'\u003e, \u003cGameType 'markov_soccer'\u003e, \u003cGameType 'matching_pennies_3p'\u003e, \u003cGameType 'matrix_cd'\u003e, \u003cGameType 'matrix_coordination'\u003e, \u003cGameType 'matrix_mp'\u003e, \u003cGameType 'matrix_pd'\u003e, \u003cGameType 'matrix_rps'\u003e, \u003cGameType 'matrix_sh'\u003e, \u003cGameType 'matrix_shapleys_game'\u003e, \u003cGameType 'misere'\u003e, \u003cGameType 'negotiation'\u003e, \u003cGameType 'oshi_zumo'\u003e, \u003cGameType 'oware'\u003e, \u003cGameType 'pentago'\u003e, \u003cGameType 'phantom_ttt'\u003e, \u003cGameType 'pig'\u003e, \u003cGameType 'quoridor'\u003e, \u003cGameType 'tic_tac_toe'\u003e, \u003cGameType 'tiny_bridge_2p'\u003e, \u003cGameType 'tiny_bridge_4p'\u003e, \u003cGameType 'tiny_hanabi'\u003e, \u003cGameType 'turn_based_simultaneous_game'\u003e, \u003cGameType 'universal_poker'\u003e, \u003cGameType 'y'\u003e]\n"
          ]
        }
      ],
      "source": [
        "\n",
        "game = pyspiel.load_game(\"universal_poker\")\n",
        "\n",
        "games_list = pyspiel.registered_games()\n",
        "\n",
        "print(\"Registered games:\")\n",
        "print(games_list)\n"
      ]
    },
    {
      "cell_type": "code",
      "execution_count": 0,
      "metadata": {
        "colab": {},
        "colab_type": "code",
        "id": "vqyfMHs2vEx7"
      },
      "outputs": [],
      "source": [
        "\"\"\"Test that Python and C++ bots can be called by a C++ algorithm.\"\"\"\n",
        "\n",
        "from __future__ import absolute_import\n",
        "from __future__ import division\n",
        "from __future__ import print_function\n",
        "\n",
        "from absl.testing import absltest\n",
        "import numpy as np\n",
        "\n",
        "from open_spiel.python.bots import uniform_random\n",
        "import pyspiel\n",
        "\n",
        "game = pyspiel.load_game(\"leduc_poker\")\n",
        "bots = [\n",
        "    pyspiel.make_uniform_random_bot(game, 0, 1234),\n",
        "    uniform_random.UniformRandomBot(game, 1, np.random.RandomState(4321)),\n",
        "]\n",
        "results = np.array([\n",
        "    pyspiel.evaluate_bots(game.new_initial_state(), bots, iteration)\n",
        "    for iteration in range(10000)\n",
        "])\n",
        "leduc_average_results = np.mean(results, axis=0)\n",
        "print(leduc_average_results)\n",
        "\n",
        "game = pyspiel.load_game(\"universal_poker\")\n",
        "bots = [\n",
        "    pyspiel.make_uniform_random_bot(game, 0, 1234),\n",
        "    uniform_random.UniformRandomBot(game, 1, np.random.RandomState(4321)),\n",
        "]\n",
        "results = np.array([\n",
        "    pyspiel.evaluate_bots(game.new_initial_state(), bots, iteration)\n",
        "    for iteration in range(10000)\n",
        "])\n",
        "universal_poker_average_results = np.mean(results, axis=0)\n",
        "print(universal_poker_average_results)\n",
        "    \n",
        "#np.testing.assert_allclose(universal_poker_average_results, leduc_average_results, atol=0.1)"
      ]
    },
    {
      "cell_type": "code",
      "execution_count": 0,
      "metadata": {
        "colab": {},
        "colab_type": "code",
        "id": "RhI6kVnkvEyE"
      },
      "outputs": [],
      "source": [
        "kuhnGameDesc = '''GAMEDEF\n",
        "limit\n",
        "numPlayers = 2\n",
        "numRounds = 1\n",
        "blind = 1 1\n",
        "raiseSize = 1\n",
        "firstPlayer = 1\n",
        "maxRaises = 1\n",
        "numSuits = 1\n",
        "numRanks = 3\n",
        "numHoleCards = 1\n",
        "numBoardCards = 0\n",
        "END GAMEDEF'''"
      ]
    },
    {
      "cell_type": "code",
      "execution_count": 0,
      "metadata": {
        "colab": {},
        "colab_type": "code",
        "id": "lpLJhzBEvEyM"
      },
      "outputs": [],
      "source": [
        "\n",
        "# flags.DEFINE_integer(\"iterations\", 100, \"Number of iterations\")\n",
        "# flags.DEFINE_string(\"game\", \"kuhn_poker\", \"Name of the game\")\n",
        "# flags.DEFINE_integer(\"players\", 2, \"Number of players\")\n",
        "# flags.DEFINE_integer(\"print_freq\", 10, \"How often to print the exploitability\")\n",
        "\n",
        "# Compare exloitability for two games\n",
        "\n",
        "game_1 = \"leduc_poker\"\n",
        "game_2 = \"universal_poker\"\n",
        "players = 2\n",
        "iterations = 1000\n",
        "print_freq = 1\n",
        "\n",
        "def compare_exploitability(game_1 = game_1, game_2 = game_2):\n",
        "    game_1 = pyspiel.load_game(game_1,\n",
        "                           {\"players\": pyspiel.GameParameter(players)})\n",
        "    cfr_solver_1 = cfr.CFRSolver(game_1)\n",
        "    game_2 = pyspiel.load_game(game_2)\n",
        "    cfr_solver_2 = cfr.CFRSolver(game_2)\n",
        "    \n",
        "    for i in range(iterations):\n",
        "        cfr_solver_1.evaluate_and_update_policy()\n",
        "        cfr_solver_2.evaluate_and_update_policy()\n",
        "        if i % print_freq == 0:\n",
        "            conv_1 = exploitability.exploitability(game_1, cfr_solver_1.average_policy())\n",
        "            conv_2 = exploitability.exploitability(game_2, cfr_solver_2.average_policy())\n",
        "\n",
        "\n",
        "            print(\"Iteration {} exploitability of the {}: {} {}: {}\".format(i, game_1, game_2, conv_1, conv_2))\n",
        "\n",
        "    print(\"Final exploitability is {}: {} {}: {}\".format(game_1, game_2, conv_1, conv_2))\n",
        "    \n",
        "compare_exploitability(game_1, game_2)"
      ]
    },
    {
      "cell_type": "code",
      "execution_count": 0,
      "metadata": {
        "colab": {},
        "colab_type": "code",
        "id": "Asrq1Q9IvEyV",
        "scrolled": true
      },
      "outputs": [],
      "source": [
        "import pyspiel\n",
        "from open_spiel.python.visualizations import treeviz\n"
      ]
    },
    {
      "cell_type": "code",
      "execution_count": 0,
      "metadata": {
        "colab": {},
        "colab_type": "code",
        "id": "zk4rz8mvvEyb"
      },
      "outputs": [],
      "source": [
        "game = \"universal_poker\"\n",
        "out = \"/tmp/gametree.png\"\n",
        "prog = \"dot\"\n",
        "group_infosets = False\n",
        "group_terminal = False\n",
        "verbose = False\n",
        "\n",
        "def _zero_sum_node_decorator(state):\n",
        "    \"\"\"Custom node decorator that only shows the return of the first player.\"\"\"\n",
        "    attrs = treeviz.default_node_decorator(state)  # get default attributes\n",
        "    if state.is_terminal():\n",
        "        attrs[\"label\"] = str(int(state.returns()[0]))\n",
        "    return attrs\n",
        "\n",
        "\n",
        "game = pyspiel.load_game(game, {'gameDesc':  pyspiel.GameParameter(ku)} )\n",
        "game_type = game.get_type()\n",
        "\n",
        "if game_type.dynamics != pyspiel.GameType.Dynamics.SEQUENTIAL:\n",
        "    raise ValueError(\"Game must be sequential, not {}\".format(\n",
        "         game_type.dynamics))\n",
        "\n",
        "if (game_type.utility == pyspiel.GameType.Utility.ZERO_SUM and\n",
        "        game.num_players() == 2):\n",
        "    gametree = treeviz.GameTree(\n",
        "         game,\n",
        "         node_decorator=_zero_sum_node_decorator,\n",
        "         group_infosets=group_infosets,\n",
        "         group_terminal=group_terminal)\n",
        "else:\n",
        "    gametree = treeviz.GameTree(game)  # use default decorators\n",
        "\n",
        "if verbose:\n",
        "     logging.info(\"Game tree:\\n%s\", gametree.to_string())\n",
        "\n",
        "gametree.draw(out, prog=prog)\n",
        "\n"
      ]
    },
    {
      "cell_type": "code",
      "execution_count": 0,
      "metadata": {
        "colab": {},
        "colab_type": "code",
        "id": "gMNr4mftvEyf"
      },
      "outputs": [],
      "source": [
        ""
      ]
    }
  ],
  "metadata": {
    "colab": {
      "name": "test_universal_poker.ipynb",
      "provenance": [
        {
          "file_id": "1ZX9X01BBrKZp5EAIEXTLwzxuTbEj0rTJ",
          "timestamp": 1575292378817
        }
      ]
    },
    "kernelspec": {
      "display_name": "Python 3",
      "language": "python",
      "name": "python3"
    },
    "language_info": {
      "codemirror_mode": {
        "name": "ipython",
        "version": 3
      },
      "file_extension": ".py",
      "mimetype": "text/x-python",
      "name": "python",
      "nbconvert_exporter": "python",
      "pygments_lexer": "ipython3",
      "version": "3.6.7"
    }
  },
  "nbformat": 4,
  "nbformat_minor": 0
}
